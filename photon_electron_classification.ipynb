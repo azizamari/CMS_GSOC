{
 "cells": [
  {
   "cell_type": "code",
   "execution_count": 3,
   "id": "94f2b37d",
   "metadata": {},
   "outputs": [],
   "source": [
    "import h5py\n",
    "import tensorflow as tf"
   ]
  },
  {
   "cell_type": "code",
   "execution_count": 9,
   "id": "67353908",
   "metadata": {},
   "outputs": [],
   "source": [
    "class train_generator:\n",
    "    def __call__(self):\n",
    "      with h5py.File('data/electron.hdf5','r') as hf2:\n",
    "        with h5py.File('data/photon.hdf5', 'r') as hf:\n",
    "            for i in range(int(len(hf['X'])*0.8)): # both hf1 and hf2 have same length\n",
    "                yield hf['X'][i], hf['y'][i]\n",
    "                yield hf2['X'][i], hf2['y'][i]                "
   ]
  },
  {
   "cell_type": "code",
   "execution_count": 6,
   "id": "23bae328",
   "metadata": {},
   "outputs": [
    {
     "data": {
      "text/plain": [
       "199201"
      ]
     },
     "execution_count": 6,
     "metadata": {},
     "output_type": "execute_result"
    }
   ],
   "source": [
    "with h5py.File('data/electron.hdf5', 'r') as hf:\n",
    "  test_ds_start=int(len(hf['X'])*0.8)+1\n",
    "test_ds_start"
   ]
  },
  {
   "cell_type": "code",
   "execution_count": 10,
   "id": "9e83ba86",
   "metadata": {},
   "outputs": [],
   "source": [
    "class test_generator:\n",
    "    def __call__(self):\n",
    "      with h5py.File('data/electron.hdf5','r') as hf2:\n",
    "        with h5py.File('data/photon.hdf5', 'r') as hf:\n",
    "            for i in range(int(len(hf['X'])*0.2)): # both hf1 and hf2 have same length\n",
    "                yield hf['X'][test_ds_start+i], hf['y'][test_ds_start+i]\n",
    "                yield hf2['X'][test_ds_start+i], hf2['y'][test_ds_start+i]  "
   ]
  },
  {
   "cell_type": "code",
   "execution_count": 11,
   "id": "03524825",
   "metadata": {},
   "outputs": [],
   "source": [
    "train_ds = tf.data.Dataset.from_generator(\n",
    "  train_generator(),\n",
    "  output_signature=(\n",
    "    tf.TensorSpec(shape=(32, 32, 2), dtype=tf.float32),\n",
    "    tf.TensorSpec(shape=(), dtype=tf.int32)\n",
    "  )\n",
    ")\n",
    "test_ds = tf.data.Dataset.from_generator(\n",
    "  test_generator(),\n",
    "  output_signature=(\n",
    "    tf.TensorSpec(shape=(32, 32, 2), dtype=tf.float32),\n",
    "    tf.TensorSpec(shape=(), dtype=tf.int32)\n",
    "  )\n",
    ")"
   ]
  },
  {
   "cell_type": "code",
   "execution_count": 15,
   "id": "df1f6789",
   "metadata": {},
   "outputs": [],
   "source": [
    "iter_train_ds=iter(train_ds)\n",
    "def input_fn():\n",
    "    feature, label = next(iter_train_ds)\n",
    "    return {\"x\": feature}, label\n"
   ]
  },
  {
   "cell_type": "code",
   "execution_count": 17,
   "id": "424bf8ce",
   "metadata": {},
   "outputs": [
    {
     "data": {
      "text/plain": [
       "tensorflow.python.data.ops.dataset_ops.FlatMapDataset"
      ]
     },
     "execution_count": 17,
     "metadata": {},
     "output_type": "execute_result"
    }
   ],
   "source": [
    "type(train_ds)"
   ]
  },
  {
   "cell_type": "code",
   "execution_count": 20,
   "id": "5d4faba2",
   "metadata": {},
   "outputs": [],
   "source": [
    "batched_train_ds=train_ds.batch(32)\n",
    "batched_test_ds=test_ds.batch(32)"
   ]
  },
  {
   "cell_type": "code",
   "execution_count": 21,
   "id": "dd2843ba",
   "metadata": {},
   "outputs": [],
   "source": [
    "iter_batched_train_ds=iter(batched_train_ds)\n",
    "def input_fn():\n",
    "    feature, label = next(iter_batched_train_ds)\n",
    "    return {\"x\": feature}, label"
   ]
  },
  {
   "cell_type": "code",
   "execution_count": 30,
   "id": "61dbed0f",
   "metadata": {},
   "outputs": [
    {
     "ename": "SyntaxError",
     "evalue": "invalid syntax (1543761546.py, line 2)",
     "output_type": "error",
     "traceback": [
      "\u001b[1;36m  Cell \u001b[1;32mIn[30], line 2\u001b[1;36m\u001b[0m\n\u001b[1;33m    tf..reduce_max(feature)\u001b[0m\n\u001b[1;37m       ^\u001b[0m\n\u001b[1;31mSyntaxError\u001b[0m\u001b[1;31m:\u001b[0m invalid syntax\n"
     ]
    }
   ],
   "source": [
    "feature, label = next(iter_train_ds)\n",
    "tf..reduce_max(feature)"
   ]
  },
  {
   "cell_type": "code",
   "execution_count": null,
   "id": "16f50c80",
   "metadata": {},
   "outputs": [],
   "source": [
    "train_ds, test_ds=tf.keras.utils.split_dataset(batched_ds, left_size=0.8)"
   ]
  },
  {
   "cell_type": "code",
   "execution_count": null,
   "id": "cc609602",
   "metadata": {},
   "outputs": [],
   "source": [
    "model = tf.keras.models.Sequential([\n",
    "    tf.keras.layers.Rescaling(1./255,input_shape=(209, 209, 3)),\n",
    "  \n",
    "    tf.keras.layers.Conv2D(16, (3,3), activation='relu'),\n",
    "    tf.keras.layers.MaxPooling2D(2, 2),\n",
    "  \n",
    "    tf.keras.layers.Conv2D(32, (3,3), activation='relu'),\n",
    "    tf.keras.layers.MaxPooling2D(2,2),\n",
    "\n",
    "\n",
    "    tf.keras.layers.Flatten(),\n",
    "   \n",
    "    tf.keras.layers.Dense(512, activation='relu'),\n",
    "   \n",
    "  \n",
    "    tf.keras.layers.Dense(1, activation='sigmoid')\n",
    "])"
   ]
  }
 ],
 "metadata": {
  "kernelspec": {
   "display_name": "Python [conda env:tf]",
   "language": "python",
   "name": "conda-env-tf-py"
  },
  "language_info": {
   "codemirror_mode": {
    "name": "ipython",
    "version": 3
   },
   "file_extension": ".py",
   "mimetype": "text/x-python",
   "name": "python",
   "nbconvert_exporter": "python",
   "pygments_lexer": "ipython3",
   "version": "3.9.15"
  }
 },
 "nbformat": 4,
 "nbformat_minor": 5
}
