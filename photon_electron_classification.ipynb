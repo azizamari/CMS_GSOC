{
 "cells": [
  {
   "cell_type": "code",
   "execution_count": 3,
   "id": "94f2b37d",
   "metadata": {},
   "outputs": [],
   "source": [
    "import h5py\n",
    "import tensorflow as tf"
   ]
  },
  {
   "cell_type": "code",
   "execution_count": 9,
   "id": "67353908",
   "metadata": {},
   "outputs": [],
   "source": [
    "class train_generator:\n",
    "    def __call__(self):\n",
    "      with h5py.File('data/electron.hdf5','r') as hf2:\n",
    "        with h5py.File('data/photon.hdf5', 'r') as hf:\n",
    "            for i in range(int(len(hf['X'])*0.8)): # both hf1 and hf2 have same length\n",
    "                yield hf['X'][i], hf['y'][i]\n",
    "                yield hf2['X'][i], hf2['y'][i]                "
   ]
  },
  {
   "cell_type": "code",
   "execution_count": 6,
   "id": "23bae328",
   "metadata": {},
   "outputs": [
    {
     "data": {
      "text/plain": [
       "199201"
      ]
     },
     "execution_count": 6,
     "metadata": {},
     "output_type": "execute_result"
    }
   ],
   "source": [
    "with h5py.File('data/electron.hdf5', 'r') as hf:\n",
    "  test_ds_start=int(len(hf['X'])*0.8)+1\n",
    "test_ds_start"
   ]
  },
  {
   "cell_type": "code",
   "execution_count": 10,
   "id": "9e83ba86",
   "metadata": {},
   "outputs": [],
   "source": [
    "class test_generator:\n",
    "    def __call__(self):\n",
    "      with h5py.File('data/electron.hdf5','r') as hf2:\n",
    "        with h5py.File('data/photon.hdf5', 'r') as hf:\n",
    "            for i in range(int(len(hf['X'])*0.2)): # both hf1 and hf2 have same length\n",
    "                yield hf['X'][test_ds_start+i], hf['y'][test_ds_start+i]\n",
    "                yield hf2['X'][test_ds_start+i], hf2['y'][test_ds_start+i]  "
   ]
  },
  {
   "cell_type": "code",
   "execution_count": 11,
   "id": "03524825",
   "metadata": {},
   "outputs": [],
   "source": [
    "train_ds = tf.data.Dataset.from_generator(\n",
    "  train_generator(),\n",
    "  output_signature=(\n",
    "    tf.TensorSpec(shape=(32, 32, 2), dtype=tf.float32),\n",
    "    tf.TensorSpec(shape=(), dtype=tf.int32)\n",
    "  )\n",
    ")\n",
    "test_ds = tf.data.Dataset.from_generator(\n",
    "  test_generator(),\n",
    "  output_signature=(\n",
    "    tf.TensorSpec(shape=(32, 32, 2), dtype=tf.float32),\n",
    "    tf.TensorSpec(shape=(), dtype=tf.int32)\n",
    "  )\n",
    ")"
   ]
  },
  {
   "cell_type": "code",
   "execution_count": 15,
   "id": "df1f6789",
   "metadata": {},
   "outputs": [],
   "source": [
    "iter_train_ds=iter(train_ds)\n",
    "def input_fn():\n",
    "    feature, label = next(iter_train_ds)\n",
    "    return {\"x\": feature}, label\n"
   ]
  },
  {
   "cell_type": "code",
   "execution_count": 17,
   "id": "424bf8ce",
   "metadata": {},
   "outputs": [
    {
     "data": {
      "text/plain": [
       "tensorflow.python.data.ops.dataset_ops.FlatMapDataset"
      ]
     },
     "execution_count": 17,
     "metadata": {},
     "output_type": "execute_result"
    }
   ],
   "source": [
    "type(train_ds)"
   ]
  },
  {
   "cell_type": "code",
   "execution_count": 20,
   "id": "5d4faba2",
   "metadata": {},
   "outputs": [],
   "source": [
    "batched_train_ds=train_ds.batch(32)\n",
    "batched_test_ds=test_ds.batch(32)"
   ]
  },
  {
   "cell_type": "code",
   "execution_count": 40,
   "id": "903cfdd4",
   "metadata": {},
   "outputs": [],
   "source": [
    "iter_batched_train_ds=iter(batched_train_ds)\n",
    "iter_batched_test_ds=iter(batched_test_ds)\n",
    "def input_fn_batched():\n",
    "    feature, label = next(iter_batched_train_ds)\n",
    "    return {\"x\": feature}, label\n",
    "def test_fn_batched():\n",
    "  feature, label = next(iter_batched_test_ds)\n",
    "  return {\"x\": feature}, label"
   ]
  },
  {
   "cell_type": "code",
   "execution_count": 32,
   "id": "61dbed0f",
   "metadata": {},
   "outputs": [
    {
     "data": {
      "text/plain": [
       "<tf.Tensor: shape=(), dtype=float32, numpy=1.1351585>"
      ]
     },
     "execution_count": 32,
     "metadata": {},
     "output_type": "execute_result"
    }
   ],
   "source": [
    "feature, label = next(iter_train_ds)\n",
    "tf.reduce_max(feature)"
   ]
  },
  {
   "cell_type": "code",
   "execution_count": 34,
   "id": "cc609602",
   "metadata": {},
   "outputs": [],
   "source": [
    "model = tf.keras.models.Sequential([\n",
    "    tf.keras.layers.Conv2D(16, (3,3), activation='relu',input_shape=(32, 32, 2)),\n",
    "    tf.keras.layers.MaxPooling2D(2, 2),\n",
    "  \n",
    "    tf.keras.layers.Conv2D(32, (3,3), activation='relu'),\n",
    "    tf.keras.layers.MaxPooling2D(2,2),\n",
    "\n",
    "\n",
    "    tf.keras.layers.Flatten(),\n",
    "   \n",
    "    tf.keras.layers.Dense(512, activation='relu'),\n",
    "   \n",
    "  \n",
    "    tf.keras.layers.Dense(1, activation='sigmoid')\n",
    "])"
   ]
  },
  {
   "cell_type": "code",
   "execution_count": 35,
   "id": "a469889e",
   "metadata": {},
   "outputs": [
    {
     "name": "stdout",
     "output_type": "stream",
     "text": [
      "Model: \"sequential\"\n",
      "_________________________________________________________________\n",
      " Layer (type)                Output Shape              Param #   \n",
      "=================================================================\n",
      " conv2d (Conv2D)             (None, 30, 30, 16)        304       \n",
      "                                                                 \n",
      " max_pooling2d (MaxPooling2D  (None, 15, 15, 16)       0         \n",
      " )                                                               \n",
      "                                                                 \n",
      " conv2d_1 (Conv2D)           (None, 13, 13, 32)        4640      \n",
      "                                                                 \n",
      " max_pooling2d_1 (MaxPooling  (None, 6, 6, 32)         0         \n",
      " 2D)                                                             \n",
      "                                                                 \n",
      " flatten (Flatten)           (None, 1152)              0         \n",
      "                                                                 \n",
      " dense (Dense)               (None, 512)               590336    \n",
      "                                                                 \n",
      " dense_1 (Dense)             (None, 1)                 513       \n",
      "                                                                 \n",
      "=================================================================\n",
      "Total params: 595,793\n",
      "Trainable params: 595,793\n",
      "Non-trainable params: 0\n",
      "_________________________________________________________________\n"
     ]
    }
   ],
   "source": [
    "model.summary()"
   ]
  },
  {
   "cell_type": "code",
   "execution_count": 37,
   "id": "0c6dc901",
   "metadata": {},
   "outputs": [],
   "source": [
    "model.compile(loss='binary_crossentropy',\n",
    "              optimizer=tf.keras.optimizers.RMSprop(learning_rate=0.001),\n",
    "              metrics=['accuracy',tf.keras.metrics.AUC()])"
   ]
  },
  {
   "cell_type": "code",
   "execution_count": null,
   "id": "c857d33b",
   "metadata": {},
   "outputs": [
    {
     "name": "stdout",
     "output_type": "stream",
     "text": [
      "Epoch 1/3\n",
      "    768/Unknown - 2920s 4s/step - loss: 0.6669 - accuracy: 0.5941 - auc: 0.6251"
     ]
    }
   ],
   "source": [
    "model.fit(\n",
    "  batched_train_ds,\n",
    "  validation_data=batched_test_ds,\n",
    "  epochs=3\n",
    ")"
   ]
  }
 ],
 "metadata": {
  "kernelspec": {
   "display_name": "Python [conda env:tf]",
   "language": "python",
   "name": "conda-env-tf-py"
  },
  "language_info": {
   "codemirror_mode": {
    "name": "ipython",
    "version": 3
   },
   "file_extension": ".py",
   "mimetype": "text/x-python",
   "name": "python",
   "nbconvert_exporter": "python",
   "pygments_lexer": "ipython3",
   "version": "3.9.15"
  }
 },
 "nbformat": 4,
 "nbformat_minor": 5
}
