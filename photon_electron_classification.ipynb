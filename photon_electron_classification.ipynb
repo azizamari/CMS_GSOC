{
 "cells": [
  {
   "cell_type": "code",
   "execution_count": 1,
   "id": "ac5fb1e0",
   "metadata": {},
   "outputs": [],
   "source": [
    "import h5py\n",
    "import tensorflow as tf"
   ]
  },
  {
   "cell_type": "code",
   "execution_count": 108,
   "id": "a0725f3c",
   "metadata": {},
   "outputs": [],
   "source": [
    "class generator:\n",
    "    def __call__(self):\n",
    "      with h5py.File('data/electron.hdf5','r') as hf2:\n",
    "        with h5py.File('data/photon.hdf5', 'r') as hf:\n",
    "            for i in range(len(hf['X'])): # both hf1 and hf2 have same length\n",
    "                yield hf['X'][i], hf['y'][i]\n",
    "                yield hf2['X'][i], hf2['y'][i]                "
   ]
  },
  {
   "cell_type": "code",
   "execution_count": 91,
   "id": "ba2fd323",
   "metadata": {},
   "outputs": [
    {
     "name": "stdout",
     "output_type": "stream",
     "text": [
      "(249000, 32, 32, 2)\n"
     ]
    }
   ],
   "source": [
    "with h5py.File('data/electron.hdf5', 'r') as hf:\n",
    "  print(hf['X'].shape)"
   ]
  },
  {
   "cell_type": "code",
   "execution_count": 95,
   "id": "906ed909",
   "metadata": {},
   "outputs": [],
   "source": [
    "ds = tf.data.Dataset.from_generator(\n",
    "  generator(),\n",
    "  output_signature=(\n",
    "    tf.TensorSpec(shape=(32, 32, 2), dtype=tf.float32),\n",
    "    tf.TensorSpec(shape=(), dtype=tf.int32)\n",
    "  )\n",
    ")"
   ]
  },
  {
   "cell_type": "code",
   "execution_count": 109,
   "id": "56f1cc31",
   "metadata": {},
   "outputs": [],
   "source": [
    "iter_ds=iter(ds)\n",
    "def input_fn():\n",
    "    feature, label = next(iter_ds)\n",
    "    return {\"x\": feature}, label\n"
   ]
  },
  {
   "cell_type": "code",
   "execution_count": 118,
   "id": "32605666",
   "metadata": {},
   "outputs": [],
   "source": [
    "batched_ds=ds.batch(32)\n",
    "iter_batched_ds=iter(batched_ds)"
   ]
  },
  {
   "cell_type": "code",
   "execution_count": 120,
   "id": "acf68a57",
   "metadata": {},
   "outputs": [
    {
     "data": {
      "text/plain": [
       "<tf.Tensor: shape=(32,), dtype=int32, numpy=\n",
       "array([0, 1, 0, 1, 0, 1, 0, 1, 0, 1, 0, 1, 0, 1, 0, 1, 0, 1, 0, 1, 0, 1,\n",
       "       0, 1, 0, 1, 0, 1, 0, 1, 0, 1])>"
      ]
     },
     "execution_count": 120,
     "metadata": {},
     "output_type": "execute_result"
    }
   ],
   "source": [
    "feature, label = next(iter_batched_ds)\n",
    "label"
   ]
  },
  {
   "cell_type": "code",
   "execution_count": null,
   "id": "cf8f6738",
   "metadata": {},
   "outputs": [],
   "source": []
  },
  {
   "cell_type": "code",
   "execution_count": null,
   "id": "cf4ef3c8",
   "metadata": {},
   "outputs": [],
   "source": []
  }
 ],
 "metadata": {
  "kernelspec": {
   "display_name": "Python [conda env:tf]",
   "language": "python",
   "name": "conda-env-tf-py"
  },
  "language_info": {
   "codemirror_mode": {
    "name": "ipython",
    "version": 3
   },
   "file_extension": ".py",
   "mimetype": "text/x-python",
   "name": "python",
   "nbconvert_exporter": "python",
   "pygments_lexer": "ipython3",
   "version": "3.9.15"
  }
 },
 "nbformat": 4,
 "nbformat_minor": 5
}
